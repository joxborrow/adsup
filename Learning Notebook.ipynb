{
 "cells": [
  {
   "cell_type": "code",
   "execution_count": 1,
   "id": "bf2e58f9-2bee-48a8-be05-470342e569e3",
   "metadata": {},
   "outputs": [],
   "source": [
    "# Connect to Spark\n",
    "from pyspark.sql import SparkSession\n",
    "spark=SparkSession.builder.appName(\"Data_Wrangling\").getOrCreate()"
   ]
  },
  {
   "cell_type": "code",
   "execution_count": 3,
   "id": "3b044529-30a5-4027-a488-b502b4c70ebb",
   "metadata": {},
   "outputs": [],
   "source": [
    "# Set parameters\n",
    "file_location = \"adsup/Ch02/Chapter2_Data/movie_data_part1.csv\"\n",
    "file_type = \"csv\"\n",
    "infer_schema = \"False\"\n",
    "first_row_is_header = \"True\"\n",
    "delimiter = \"|\""
   ]
  },
  {
   "cell_type": "code",
   "execution_count": 6,
   "id": "6733eeba-9f0f-485c-9eab-a62d47c44215",
   "metadata": {},
   "outputs": [],
   "source": [
    "# Read in dataframe\n",
    "df = (spark.read.format(file_type)\n",
    "                .option(\"inferSchema\", infer_schema)\n",
    "                .option(\"header\", first_row_is_header)\n",
    "                .option(\"sep\", delimiter)\n",
    "                .load(file_location))"
   ]
  }
 ],
 "metadata": {
  "kernelspec": {
   "display_name": "Python 3 (ipykernel)",
   "language": "python",
   "name": "python3"
  },
  "language_info": {
   "codemirror_mode": {
    "name": "ipython",
    "version": 3
   },
   "file_extension": ".py",
   "mimetype": "text/x-python",
   "name": "python",
   "nbconvert_exporter": "python",
   "pygments_lexer": "ipython3",
   "version": "3.11.6"
  }
 },
 "nbformat": 4,
 "nbformat_minor": 5
}

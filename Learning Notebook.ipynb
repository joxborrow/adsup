{
 "cells": [
  {
   "cell_type": "markdown",
   "id": "1eae7274-80e4-4790-8fcb-808c180f00db",
   "metadata": {},
   "source": [
    "# Chapter 2"
   ]
  },
  {
   "cell_type": "markdown",
   "id": "b29f3df7-fc69-4971-a4ef-83186e466989",
   "metadata": {},
   "source": [
    "## Connect and Read in Data"
   ]
  },
  {
   "cell_type": "code",
   "execution_count": 1,
   "id": "87de69df-698c-4a82-b7ed-95deb082677c",
   "metadata": {},
   "outputs": [],
   "source": [
    "# Connect to Spark\n",
    "from pyspark.sql import SparkSession\n",
    "spark=SparkSession.builder.appName(\"Data_Wrangling\").getOrCreate()"
   ]
  },
  {
   "cell_type": "code",
   "execution_count": 2,
   "id": "3b044529-30a5-4027-a488-b502b4c70ebb",
   "metadata": {},
   "outputs": [],
   "source": [
    "# Set parameters\n",
    "file_location = \"Ch02/Chapter2_Data/movie_data_part1.csv\"\n",
    "file_type = \"csv\"\n",
    "infer_schema = \"False\"\n",
    "first_row_is_header = \"True\"\n",
    "delimiter = \"|\""
   ]
  },
  {
   "cell_type": "code",
   "execution_count": 3,
   "id": "6733eeba-9f0f-485c-9eab-a62d47c44215",
   "metadata": {},
   "outputs": [],
   "source": [
    "# Read in dataframe\n",
    "df_raw = (spark.read.format(file_type)\n",
    "                    .option(\"inferSchema\", infer_schema)\n",
    "                    .option(\"header\", first_row_is_header)\n",
    "                    .option(\"sep\", delimiter)\n",
    "                    .load(file_location))"
   ]
  },
  {
   "cell_type": "markdown",
   "id": "cdeb8edd-c133-4d1d-ae39-58b536b75938",
   "metadata": {},
   "source": [
    "## Exploratory Analysis"
   ]
  },
  {
   "cell_type": "code",
   "execution_count": 4,
   "id": "fac1052d-178e-4c26-a6b7-d80e0e28d7bb",
   "metadata": {},
   "outputs": [
    {
     "name": "stdout",
     "output_type": "stream",
     "text": [
      "root\n",
      " |-- belongs_to_collection: string (nullable = true)\n",
      " |-- budget: string (nullable = true)\n",
      " |-- id: string (nullable = true)\n",
      " |-- original_language: string (nullable = true)\n",
      " |-- original_title: string (nullable = true)\n",
      " |-- overview: string (nullable = true)\n",
      " |-- popularity: string (nullable = true)\n",
      " |-- production_companies: string (nullable = true)\n",
      " |-- production_countries: string (nullable = true)\n",
      " |-- release_date: string (nullable = true)\n",
      " |-- revenue: string (nullable = true)\n",
      " |-- runtime: string (nullable = true)\n",
      " |-- status: string (nullable = true)\n",
      " |-- tagline: string (nullable = true)\n",
      " |-- title: string (nullable = true)\n",
      " |-- vote_average: string (nullable = true)\n",
      "\n"
     ]
    }
   ],
   "source": [
    "df_raw.printSchema()"
   ]
  },
  {
   "cell_type": "code",
   "execution_count": 5,
   "id": "9dca0a18-5b38-4f2a-94f8-09e613e803c9",
   "metadata": {},
   "outputs": [
    {
     "data": {
      "text/plain": [
       "[('belongs_to_collection', 'string'),\n",
       " ('budget', 'string'),\n",
       " ('id', 'string'),\n",
       " ('original_language', 'string'),\n",
       " ('original_title', 'string'),\n",
       " ('overview', 'string'),\n",
       " ('popularity', 'string'),\n",
       " ('production_companies', 'string'),\n",
       " ('production_countries', 'string'),\n",
       " ('release_date', 'string'),\n",
       " ('revenue', 'string'),\n",
       " ('runtime', 'string'),\n",
       " ('status', 'string'),\n",
       " ('tagline', 'string'),\n",
       " ('title', 'string'),\n",
       " ('vote_average', 'string')]"
      ]
     },
     "execution_count": 5,
     "metadata": {},
     "output_type": "execute_result"
    }
   ],
   "source": [
    "df_raw.dtypes"
   ]
  },
  {
   "cell_type": "code",
   "execution_count": 6,
   "id": "65512587-3f58-4e5f-9b1c-e1f497ceae57",
   "metadata": {},
   "outputs": [
    {
     "data": {
      "text/plain": [
       "43998"
      ]
     },
     "execution_count": 6,
     "metadata": {},
     "output_type": "execute_result"
    }
   ],
   "source": [
    "df_raw.count()"
   ]
  },
  {
   "cell_type": "code",
   "execution_count": 7,
   "id": "b05f752c-3b1e-418b-ad7c-e5be37776763",
   "metadata": {},
   "outputs": [
    {
     "name": "stdout",
     "output_type": "stream",
     "text": [
      "The total number of records is 43998!\n"
     ]
    }
   ],
   "source": [
    "print(f'The total number of records is {df_raw.count()}!')"
   ]
  },
  {
   "cell_type": "code",
   "execution_count": 8,
   "id": "8e78aca1-dbfc-4106-9cf9-cb373a78989e",
   "metadata": {},
   "outputs": [],
   "source": [
    "select_columns=['id','budget','popularity','release_date','revenue','title']"
   ]
  },
  {
   "cell_type": "code",
   "execution_count": 9,
   "id": "9c08cb0b-3a76-438a-a916-5c58052e7f15",
   "metadata": {},
   "outputs": [],
   "source": [
    "df = df_raw.select(*select_columns)"
   ]
  },
  {
   "cell_type": "code",
   "execution_count": 10,
   "id": "e7140dcd-3bf2-4ac7-b10c-6604e8621eb5",
   "metadata": {},
   "outputs": [
    {
     "name": "stdout",
     "output_type": "stream",
     "text": [
      "root\n",
      " |-- id: string (nullable = true)\n",
      " |-- budget: string (nullable = true)\n",
      " |-- popularity: string (nullable = true)\n",
      " |-- release_date: string (nullable = true)\n",
      " |-- revenue: string (nullable = true)\n",
      " |-- title: string (nullable = true)\n",
      "\n"
     ]
    }
   ],
   "source": [
    "df.printSchema()"
   ]
  },
  {
   "cell_type": "code",
   "execution_count": 11,
   "id": "6bc877cb-afd7-449d-ad92-4e0befa7ca65",
   "metadata": {},
   "outputs": [
    {
     "name": "stdout",
     "output_type": "stream",
     "text": [
      "+-----+-------+------------------+------------+-------+--------------------+\n",
      "|   id| budget|        popularity|release_date|revenue|               title|\n",
      "+-----+-------+------------------+------------+-------+--------------------+\n",
      "|43000|      0|             2.503|  1962-05-23|      0|The Elusive Corporal|\n",
      "|43001|      0|              5.51|  1962-11-12|      0|  Sundays and Cybele|\n",
      "|43002|      0|              5.62|  1962-05-24|      0|Lonely Are the Brave|\n",
      "|43003|      0|             7.159|  1975-03-12|      0|          F for Fake|\n",
      "|43004| 500000|             3.988|  1962-10-09|      0|Long Day's Journe...|\n",
      "|43006|      0|             3.194|  1962-03-09|      0|           My Geisha|\n",
      "|43007|      0|             2.689|  1962-10-31|      0|Period of Adjustment|\n",
      "|43008|      0|             6.537|  1959-03-13|      0|    The Hanging Tree|\n",
      "|43010|      0|             4.297|  1962-01-01|      0|Sherlock Holmes a...|\n",
      "|43011|      0|             4.417|  1962-01-01|      0|  Sodom and Gomorrah|\n",
      "|43012|7000000|4.7219999999999995|  1962-11-21|4000000|         Taras Bulba|\n",
      "|43013|      0|             2.543|  1962-04-17|      0|The Counterfeit T...|\n",
      "|43014|      0|             4.303|  1962-10-24|      0|     Tower of London|\n",
      "|43015|      0|             3.493|  1962-12-07|      0|Varan the Unbelie...|\n",
      "|43016|      0|             2.851|  1962-01-01|      0|Waltz of the Tore...|\n",
      "|43017|      0|             4.047|  1961-10-11|      0|         Back Street|\n",
      "|43018|      0|             2.661|  1961-06-02|      0|Gidget Goes Hawaiian|\n",
      "|43019|      0|             3.225|  2010-05-28|      0|Schuks Tshabalala...|\n",
      "|43020|      0|              5.72|  1961-06-15|      0|The Colossus of R...|\n",
      "|43021|      0|             3.292|  2008-08-22|      0|          Sex Galaxy|\n",
      "+-----+-------+------------------+------------+-------+--------------------+\n",
      "only showing top 20 rows\n",
      "\n"
     ]
    }
   ],
   "source": [
    "df.show()"
   ]
  },
  {
   "cell_type": "markdown",
   "id": "81572fab-dfea-49ea-a209-0d6a4872b2fa",
   "metadata": {},
   "source": [
    "## Missing Values"
   ]
  },
  {
   "cell_type": "code",
   "execution_count": 12,
   "id": "d71d4881-0ab4-4f5c-8a0b-a64d97e77b7a",
   "metadata": {},
   "outputs": [],
   "source": [
    "# Import sql functions\n",
    "from pyspark.sql.functions import *"
   ]
  },
  {
   "cell_type": "code",
   "execution_count": 13,
   "id": "cd721fb9-1939-42a7-8380-6c237cbe021d",
   "metadata": {},
   "outputs": [
    {
     "data": {
      "text/plain": [
       "215"
      ]
     },
     "execution_count": 13,
     "metadata": {},
     "output_type": "execute_result"
    }
   ],
   "source": [
    "# Calculate the missing values in one column\n",
    "df.filter((df['popularity']==\"\")|df['popularity'].isNull()|isnan(df['popularity'])).count()"
   ]
  },
  {
   "cell_type": "code",
   "execution_count": 14,
   "id": "6d672b44-96f4-4ef7-bbe7-825bbea6d854",
   "metadata": {},
   "outputs": [
    {
     "name": "stdout",
     "output_type": "stream",
     "text": [
      "+---+------+----------+------------+-------+-----+\n",
      "| id|budget|popularity|release_date|revenue|title|\n",
      "+---+------+----------+------------+-------+-----+\n",
      "|125|   125|       215|         221|    215|  304|\n",
      "+---+------+----------+------------+-------+-----+\n",
      "\n"
     ]
    }
   ],
   "source": [
    "# Calculate the missing values in all columns\n",
    "df.select([count(when((col(c)=='')|col(c).isNull()|isnan(c), c)).alias(c) for c in df.columns]).show()"
   ]
  },
  {
   "cell_type": "code",
   "execution_count": 15,
   "id": "37363158-d2c5-46a6-a85b-7fd2fcfa92d3",
   "metadata": {},
   "outputs": [
    {
     "name": "stdout",
     "output_type": "stream",
     "text": [
      "+--------------------+-----+\n",
      "|               title|count|\n",
      "+--------------------+-----+\n",
      "|   The Corn Is Green|    1|\n",
      "|Meet The Browns -...|    1|\n",
      "|Morenita, El Esca...|    1|\n",
      "| Father Takes a Wife|    1|\n",
      "|The Werewolf of W...|    1|\n",
      "|My Wife Is a Gang...|    1|\n",
      "|Depeche Mode: Tou...|    1|\n",
      "|  A Woman Is a Woman|    1|\n",
      "|History Is Made a...|    1|\n",
      "|      Colombian Love|    1|\n",
      "|        Ace Attorney|    1|\n",
      "|     Not Like Others|    1|\n",
      "|40 Guns to Apache...|    1|\n",
      "|          Middle Men|    1|\n",
      "|         It's a Gift|    1|\n",
      "|    La Vie de Bohème|    1|\n",
      "|Rasputin: The Mad...|    1|\n",
      "|The Ballad of Jac...|    1|\n",
      "|         How to Deal|    1|\n",
      "|             Freaked|    1|\n",
      "+--------------------+-----+\n",
      "only showing top 20 rows\n",
      "\n"
     ]
    }
   ],
   "source": [
    "# One way frequencies\n",
    "df.groupBy(df['title']).count().show()"
   ]
  },
  {
   "cell_type": "code",
   "execution_count": 16,
   "id": "eed9492b-1648-46f1-9943-d18cf5efbe8a",
   "metadata": {},
   "outputs": [
    {
     "name": "stdout",
     "output_type": "stream",
     "text": [
      "+--------------------+-----+\n",
      "|title               |count|\n",
      "+--------------------+-----+\n",
      "|NULL                |304  |\n",
      "|Les Misérables      |8    |\n",
      "|The Three Musketeers|8    |\n",
      "|Cinderella          |8    |\n",
      "|A Christmas Carol   |7    |\n",
      "|Hamlet              |7    |\n",
      "|The Island          |7    |\n",
      "|Dracula             |7    |\n",
      "|Frankenstein        |7    |\n",
      "|Framed              |6    |\n",
      "+--------------------+-----+\n",
      "only showing top 10 rows\n",
      "\n"
     ]
    }
   ],
   "source": [
    "# One way freq and sort\n",
    "df.groupBy(df['title']).count().sort(desc(\"count\")).show(10, False)"
   ]
  },
  {
   "cell_type": "code",
   "execution_count": 17,
   "id": "e76656e7-d1d4-4e43-aafb-4a89ddbf352c",
   "metadata": {},
   "outputs": [],
   "source": [
    "# Sort and filter one way frequencies\n",
    "df_temp = df.filter((df['title']!='') & (df['title'].isNotNull()) & (~isnan(df['title'])))"
   ]
  },
  {
   "cell_type": "code",
   "execution_count": 18,
   "id": "edcebe0c-2d8a-44bf-8096-38661ac717b6",
   "metadata": {},
   "outputs": [
    {
     "name": "stdout",
     "output_type": "stream",
     "text": [
      "+--------------------+-----+\n",
      "|title               |count|\n",
      "+--------------------+-----+\n",
      "|Les Misérables      |8    |\n",
      "|The Three Musketeers|8    |\n",
      "|Cinderella          |8    |\n",
      "|A Christmas Carol   |7    |\n",
      "|Frankenstein        |7    |\n",
      "|Hamlet              |7    |\n",
      "|The Island          |7    |\n",
      "|Dracula             |7    |\n",
      "|First Love          |6    |\n",
      "|Beauty and the Beast|6    |\n",
      "+--------------------+-----+\n",
      "only showing top 10 rows\n",
      "\n"
     ]
    }
   ],
   "source": [
    "# Find titles that are repeated more than 4 times\n",
    "(df_temp.groupBy(df_temp['title'])\n",
    "        .count()\n",
    "        .filter(\"`count`>4\")\n",
    "        .sort(col(\"count\").desc())\n",
    "        .show(10,False))"
   ]
  },
  {
   "cell_type": "markdown",
   "id": "86f393e9-6ebb-496a-bc29-e5925624543d",
   "metadata": {},
   "source": [
    "## Casting Variables"
   ]
  },
  {
   "cell_type": "code",
   "execution_count": 19,
   "id": "d5a25cfc-f4b1-4ac3-968b-413c55e6ab26",
   "metadata": {},
   "outputs": [
    {
     "data": {
      "text/plain": [
       "[('id', 'string'),\n",
       " ('budget', 'string'),\n",
       " ('popularity', 'string'),\n",
       " ('release_date', 'string'),\n",
       " ('revenue', 'string'),\n",
       " ('title', 'string')]"
      ]
     },
     "execution_count": 19,
     "metadata": {},
     "output_type": "execute_result"
    }
   ],
   "source": [
    "# Show types\n",
    "df.dtypes"
   ]
  },
  {
   "cell_type": "code",
   "execution_count": 20,
   "id": "f9b0fc65-9252-4c4a-baad-ecc1a18d5f10",
   "metadata": {},
   "outputs": [],
   "source": [
    "# Fix the budget variable\n",
    "df = df.withColumn('budget', df['budget'].cast(\"float\"))"
   ]
  },
  {
   "cell_type": "code",
   "execution_count": 21,
   "id": "3739dfd3-87ce-4ee3-b030-82b84063d1ea",
   "metadata": {},
   "outputs": [
    {
     "data": {
      "text/plain": [
       "[('id', 'string'),\n",
       " ('budget', 'float'),\n",
       " ('popularity', 'string'),\n",
       " ('release_date', 'string'),\n",
       " ('revenue', 'string'),\n",
       " ('title', 'string')]"
      ]
     },
     "execution_count": 21,
     "metadata": {},
     "output_type": "execute_result"
    }
   ],
   "source": [
    "df.dtypes"
   ]
  },
  {
   "cell_type": "code",
   "execution_count": 22,
   "id": "1d096518-1130-4ff3-9b01-12cd2c27b052",
   "metadata": {},
   "outputs": [
    {
     "name": "stdout",
     "output_type": "stream",
     "text": [
      "+-----+--------+----------+------------+-------+--------------------+\n",
      "|   id|  budget|popularity|release_date|revenue|               title|\n",
      "+-----+--------+----------+------------+-------+--------------------+\n",
      "|43000|     0.0|     2.503|  1962-05-23|      0|The Elusive Corporal|\n",
      "|43001|     0.0|      5.51|  1962-11-12|      0|  Sundays and Cybele|\n",
      "|43002|     0.0|      5.62|  1962-05-24|      0|Lonely Are the Brave|\n",
      "|43003|     0.0|     7.159|  1975-03-12|      0|          F for Fake|\n",
      "|43004|500000.0|     3.988|  1962-10-09|      0|Long Day's Journe...|\n",
      "|43006|     0.0|     3.194|  1962-03-09|      0|           My Geisha|\n",
      "|43007|     0.0|     2.689|  1962-10-31|      0|Period of Adjustment|\n",
      "|43008|     0.0|     6.537|  1959-03-13|      0|    The Hanging Tree|\n",
      "|43010|     0.0|     4.297|  1962-01-01|      0|Sherlock Holmes a...|\n",
      "|43011|     0.0|     4.417|  1962-01-01|      0|  Sodom and Gomorrah|\n",
      "+-----+--------+----------+------------+-------+--------------------+\n",
      "only showing top 10 rows\n",
      "\n"
     ]
    }
   ],
   "source": [
    "df.show(10)"
   ]
  },
  {
   "cell_type": "code",
   "execution_count": 23,
   "id": "db48410e-b01a-43f1-88c6-9346903ad7e6",
   "metadata": {},
   "outputs": [
    {
     "data": {
      "text/plain": [
       "[('id', 'int'),\n",
       " ('budget', 'float'),\n",
       " ('popularity', 'float'),\n",
       " ('release_date', 'date'),\n",
       " ('revenue', 'float'),\n",
       " ('title', 'string')]"
      ]
     },
     "execution_count": 23,
     "metadata": {},
     "output_type": "execute_result"
    }
   ],
   "source": [
    "# Looping over columns\n",
    "from pyspark.sql.types import *\n",
    "int_vars = ['id']\n",
    "float_vars = ['budget', 'popularity', 'revenue']\n",
    "date_vars = ['release_date']\n",
    "\n",
    "for column in float_vars:\n",
    "    df=df.withColumn(column, df[column].cast(FloatType()))\n",
    "\n",
    "for column in int_vars:\n",
    "    df=df.withColumn(column, df[column].cast(IntegerType()))\n",
    "\n",
    "for column in date_vars:\n",
    "    df=df.withColumn(column, df[column].cast(DateType()))\n",
    "\n",
    "df.dtypes"
   ]
  },
  {
   "cell_type": "code",
   "execution_count": 24,
   "id": "71d16730-b564-471c-9b64-14598caff1e7",
   "metadata": {},
   "outputs": [
    {
     "name": "stdout",
     "output_type": "stream",
     "text": [
      "+-----+--------+----------+------------+-------+---------------------------------------+\n",
      "|id   |budget  |popularity|release_date|revenue|title                                  |\n",
      "+-----+--------+----------+------------+-------+---------------------------------------+\n",
      "|43000|0.0     |2.503     |1962-05-23  |0.0    |The Elusive Corporal                   |\n",
      "|43001|0.0     |5.51      |1962-11-12  |0.0    |Sundays and Cybele                     |\n",
      "|43002|0.0     |5.62      |1962-05-24  |0.0    |Lonely Are the Brave                   |\n",
      "|43003|0.0     |7.159     |1975-03-12  |0.0    |F for Fake                             |\n",
      "|43004|500000.0|3.988     |1962-10-09  |0.0    |Long Day's Journey Into Night          |\n",
      "|43006|0.0     |3.194     |1962-03-09  |0.0    |My Geisha                              |\n",
      "|43007|0.0     |2.689     |1962-10-31  |0.0    |Period of Adjustment                   |\n",
      "|43008|0.0     |6.537     |1959-03-13  |0.0    |The Hanging Tree                       |\n",
      "|43010|0.0     |4.297     |1962-01-01  |0.0    |Sherlock Holmes and the Deadly Necklace|\n",
      "|43011|0.0     |4.417     |1962-01-01  |0.0    |Sodom and Gomorrah                     |\n",
      "+-----+--------+----------+------------+-------+---------------------------------------+\n",
      "only showing top 10 rows\n",
      "\n"
     ]
    }
   ],
   "source": [
    "df.show(10, False)"
   ]
  },
  {
   "cell_type": "markdown",
   "id": "3a68e702-972b-4dae-b60f-9eb5478f108b",
   "metadata": {},
   "source": [
    "## Descriptive Statistics"
   ]
  },
  {
   "cell_type": "code",
   "execution_count": 25,
   "id": "f3cf1f72-6c0a-4b91-919f-ff6702315389",
   "metadata": {},
   "outputs": [
    {
     "name": "stdout",
     "output_type": "stream",
     "text": [
      "+-------+------------------+--------------------+-----------------+-------------------+--------------------+\n",
      "|summary|                id|              budget|       popularity|            revenue|               title|\n",
      "+-------+------------------+--------------------+-----------------+-------------------+--------------------+\n",
      "|  count|             43784|               43873|            43783|              43783|               43694|\n",
      "|   mean|44502.304312077475|   3736901.834963167|5.295444259579189|  9697079.597382545|            Infinity|\n",
      "| stddev|27189.646588626394|1.5871814952777326E7|6.168030519208252|5.687938449628811E7|                 NaN|\n",
      "|    min|                 2|                 0.0|              0.6|                0.0|!Women Art Revolu...|\n",
      "|    max|            100988|               3.8E8|            180.0|       2.78796518E9|       시크릿 Secret|\n",
      "+-------+------------------+--------------------+-----------------+-------------------+--------------------+\n",
      "\n"
     ]
    }
   ],
   "source": [
    "df.describe().show()"
   ]
  },
  {
   "cell_type": "code",
   "execution_count": 26,
   "id": "7d60fc8d-d08b-4ba7-8882-09eca0d51a23",
   "metadata": {},
   "outputs": [],
   "source": [
    "df_temp = df.filter((df['budget']!=0) & (df['budget'].isNotNull()) & (~isnan(df['budget'])))"
   ]
  },
  {
   "cell_type": "code",
   "execution_count": 27,
   "id": "7f4249ba-2933-40d8-9b6f-32053fa8940b",
   "metadata": {},
   "outputs": [],
   "source": [
    "median = df_temp.approxQuantile(['budget','popularity'],[0.5],0.1)"
   ]
  },
  {
   "cell_type": "code",
   "execution_count": 28,
   "id": "3b977bd2-28a2-4182-ada8-bd5285a03125",
   "metadata": {},
   "outputs": [
    {
     "data": {
      "text/plain": [
       "[[5000000.0], [8.413999557495117]]"
      ]
     },
     "execution_count": 28,
     "metadata": {},
     "output_type": "execute_result"
    }
   ],
   "source": [
    "median"
   ]
  },
  {
   "cell_type": "code",
   "execution_count": 29,
   "id": "0944b5c9-4361-43bd-8455-4e48c8458c19",
   "metadata": {},
   "outputs": [
    {
     "name": "stdout",
     "output_type": "stream",
     "text": [
      "+-----+\n",
      "|count|\n",
      "+-----+\n",
      "|41138|\n",
      "+-----+\n",
      "\n"
     ]
    }
   ],
   "source": [
    "df.agg(countDistinct(col('title')).alias(\"count\")).show()"
   ]
  },
  {
   "cell_type": "code",
   "execution_count": 30,
   "id": "aa18948c-fe7c-49cd-948b-ae77a8ab5148",
   "metadata": {},
   "outputs": [
    {
     "name": "stdout",
     "output_type": "stream",
     "text": [
      "+---------------------------------------------+\n",
      "|title                                        |\n",
      "+---------------------------------------------+\n",
      "|The Corn Is Green                            |\n",
      "|Meet The Browns - The Play                   |\n",
      "|Morenita, El Escandalo                       |\n",
      "|Father Takes a Wife                          |\n",
      "|The Werewolf of Washington                   |\n",
      "|My Wife Is a Gangster                        |\n",
      "|Depeche Mode: Touring the Angel Live in Milan|\n",
      "|A Woman Is a Woman                           |\n",
      "|History Is Made at Night                     |\n",
      "|Colombian Love                               |\n",
      "+---------------------------------------------+\n",
      "only showing top 10 rows\n",
      "\n"
     ]
    }
   ],
   "source": [
    "df.select('title').distinct().show(10,False)"
   ]
  },
  {
   "cell_type": "code",
   "execution_count": 31,
   "id": "d962c0ce-7b07-4178-a563-254125dde570",
   "metadata": {},
   "outputs": [],
   "source": [
    "# Extract year\n",
    "df_temp = df.withColumn('release_year',year('release_date'))"
   ]
  },
  {
   "cell_type": "code",
   "execution_count": 32,
   "id": "238dd13d-7f66-4071-ba99-1c7689170cdc",
   "metadata": {},
   "outputs": [],
   "source": [
    "# Extract month\n",
    "df_temp = df_temp.withColumn('release_month', month('release_date'))"
   ]
  },
  {
   "cell_type": "code",
   "execution_count": 33,
   "id": "3d921d87-2433-444e-8f7e-120fef9637dd",
   "metadata": {},
   "outputs": [
    {
     "name": "stdout",
     "output_type": "stream",
     "text": [
      "+------------+---------------------+\n",
      "|release_year|count(DISTINCT title)|\n",
      "+------------+---------------------+\n",
      "|1959        |271                  |\n",
      "|1990        |496                  |\n",
      "|1975        |365                  |\n",
      "|1977        |415                  |\n",
      "|1924        |19                   |\n",
      "|2003        |1199                 |\n",
      "|2007        |1896                 |\n",
      "|2018        |4                    |\n",
      "|1974        |434                  |\n",
      "|2015        |13                   |\n",
      "+------------+---------------------+\n",
      "only showing top 10 rows\n",
      "\n"
     ]
    }
   ],
   "source": [
    "# Count distinct titles by \n",
    "df_temp.groupBy(\"release_year\").agg(countDistinct(\"title\")).show(10,False)"
   ]
  },
  {
   "cell_type": "code",
   "execution_count": 34,
   "id": "6ce41ef7-d64c-497a-a90b-87b655c457fb",
   "metadata": {},
   "outputs": [
    {
     "name": "stdout",
     "output_type": "stream",
     "text": [
      "+-----+---------+----------+------------+------------+--------------------+\n",
      "|   id|   budget|popularity|release_date|     revenue|               title|\n",
      "+-----+---------+----------+------------+------------+--------------------+\n",
      "|43957| 500000.0|     2.649|  2005-06-28|   1000000.0|Meet The Browns -...|\n",
      "|39997|      0.0|     3.585|  1989-11-15|         0.0|Meet the Hollowheads|\n",
      "|16710|      0.0|    11.495|  2008-03-21| 4.1939392E7|     Meet the Browns|\n",
      "|20430|      0.0|     3.614|  2004-01-29|         0.0|         Meet Market|\n",
      "|76435|      0.0|     1.775|  2011-03-31|         0.0|    Meet the In-Laws|\n",
      "|76516|5000000.0|      4.05|  1990-11-08|    485772.0| Meet the Applegates|\n",
      "| 7278|    3.0E7|    11.116|  2008-01-24| 8.4646832E7|   Meet the Spartans|\n",
      "|32574|      0.0|      7.42|  1941-03-14|         0.0|       Meet John Doe|\n",
      "|40506|      0.0|     4.814|  1997-01-31|         0.0|   Meet Wally Sparks|\n",
      "|40688|    2.4E7|     6.848|  1998-03-27|   4562146.0|    Meet the Deedles|\n",
      "|58401|      0.0|     6.461|  2010-11-12|         0.0|      Meet My Friend|\n",
      "|19362|      0.0|     4.246|  1998-03-20|         0.0|Meeting People Is...|\n",
      "|11260|    6.0E7|    15.534|  2008-07-08|  5.065008E7|           Meet Dave|\n",
      "|97082|      0.0|     1.042|  2011-12-01|         0.0|    Meet the Fokkens|\n",
      "|97822|      0.0|     1.333|  1942-05-21|         0.0|   Meet the Stewarts|\n",
      "|57021|      0.0|     2.525|  2005-08-10|         0.0|   Meet the Mobsters|\n",
      "|13243|5000000.0|     9.385|  2007-09-07|    346592.0|           Meet Bill|\n",
      "|61656|      0.0|      0.84|  2002-01-01|         0.0|Meet Prince Charming|\n",
      "|71356|      0.0|     1.814|  1949-03-16|         0.0| Meeting on the Elbe|\n",
      "|  297|    9.0E7|    15.651|  1998-11-12|1.42940096E8|      Meet Joe Black|\n",
      "+-----+---------+----------+------------+------------+--------------------+\n",
      "only showing top 20 rows\n",
      "\n"
     ]
    }
   ],
   "source": [
    "# Find all titles starting with the word 'Meet'\n",
    "df.filter(df['title'].like('Meet%')).show()"
   ]
  },
  {
   "cell_type": "code",
   "execution_count": 35,
   "id": "f2a7e12c-5fc1-4170-96b3-bbd2b736f4c9",
   "metadata": {},
   "outputs": [
    {
     "name": "stdout",
     "output_type": "stream",
     "text": [
      "+-----+--------+----------+------------+-------+---------------------------------------+\n",
      "|id   |budget  |popularity|release_date|revenue|title                                  |\n",
      "+-----+--------+----------+------------+-------+---------------------------------------+\n",
      "|43000|0.0     |2.503     |1962-05-23  |0.0    |The Elusive Corporal                   |\n",
      "|43001|0.0     |5.51      |1962-11-12  |0.0    |Sundays and Cybele                     |\n",
      "|43002|0.0     |5.62      |1962-05-24  |0.0    |Lonely Are the Brave                   |\n",
      "|43003|0.0     |7.159     |1975-03-12  |0.0    |F for Fake                             |\n",
      "|43004|500000.0|3.988     |1962-10-09  |0.0    |Long Day's Journey Into Night          |\n",
      "|43006|0.0     |3.194     |1962-03-09  |0.0    |My Geisha                              |\n",
      "|43007|0.0     |2.689     |1962-10-31  |0.0    |Period of Adjustment                   |\n",
      "|43008|0.0     |6.537     |1959-03-13  |0.0    |The Hanging Tree                       |\n",
      "|43010|0.0     |4.297     |1962-01-01  |0.0    |Sherlock Holmes and the Deadly Necklace|\n",
      "|43011|0.0     |4.417     |1962-01-01  |0.0    |Sodom and Gomorrah                     |\n",
      "+-----+--------+----------+------------+-------+---------------------------------------+\n",
      "only showing top 10 rows\n",
      "\n"
     ]
    }
   ],
   "source": [
    "# Find all titles that do not end in 's'\n",
    "df.filter(~df['title'].like('%s')).show(10,False)"
   ]
  },
  {
   "cell_type": "code",
   "execution_count": 36,
   "id": "6997ffc5-9fc3-4132-8bd0-f79540228b58",
   "metadata": {},
   "outputs": [
    {
     "name": "stdout",
     "output_type": "stream",
     "text": [
      "+-----+------+----------+------------+------------+------------------------+\n",
      "|id   |budget|popularity|release_date|revenue     |title                   |\n",
      "+-----+------+----------+------------+------------+------------------------+\n",
      "|43100|0.0   |7.252     |1959-10-07  |0.0         |General Della Rovere    |\n",
      "|43152|0.0   |5.126     |2001-06-21  |0.0         |Love on a Diet          |\n",
      "|43191|0.0   |4.921     |1952-08-29  |0.0         |Beware, My Lovely       |\n",
      "|43281|0.0   |2.411     |1989-11-22  |0.0         |Love Without Pity       |\n",
      "|43343|0.0   |3.174     |1953-12-25  |0.0         |Easy to Love            |\n",
      "|43347|3.0E7 |14.863    |2010-11-22  |1.02820008E8|Love & Other Drugs      |\n",
      "|43362|0.0   |1.705     |1952-02-23  |0.0         |Love Is Better Than Ever|\n",
      "|43363|0.0   |2.02      |1952-05-29  |0.0         |Lovely to Look At       |\n",
      "|43395|0.0   |4.758     |1950-11-10  |0.0         |Two Weeks with Love     |\n",
      "|43455|0.0   |4.669     |1948-08-23  |0.0         |The Loves of Carmen     |\n",
      "+-----+------+----------+------------+------------+------------------------+\n",
      "only showing top 10 rows\n",
      "\n"
     ]
    }
   ],
   "source": [
    "# You can also use regular expressions\n",
    "df.filter(df['title'].rlike('\\w*ove')).show(10,False)"
   ]
  },
  {
   "cell_type": "code",
   "execution_count": 37,
   "id": "0abca30e-689e-4162-b31f-d0041d56cde0",
   "metadata": {},
   "outputs": [
    {
     "name": "stdout",
     "output_type": "stream",
     "text": [
      "+-----+------+----------+------------+------------+--------------------+\n",
      "|   id|budget|popularity|release_date|     revenue|               title|\n",
      "+-----+------+----------+------------+------------+--------------------+\n",
      "|43100|   0.0|     7.252|  1959-10-07|         0.0|General Della Rovere|\n",
      "|43152|   0.0|     5.126|  2001-06-21|         0.0|      Love on a Diet|\n",
      "|43191|   0.0|     4.921|  1952-08-29|         0.0|   Beware, My Lovely|\n",
      "|43281|   0.0|     2.411|  1989-11-22|         0.0|   Love Without Pity|\n",
      "|43343|   0.0|     3.174|  1953-12-25|         0.0|        Easy to Love|\n",
      "|43347| 3.0E7|    14.863|  2010-11-22|1.02820008E8|  Love & Other Drugs|\n",
      "|43362|   0.0|     1.705|  1952-02-23|         0.0|Love Is Better Th...|\n",
      "|43363|   0.0|      2.02|  1952-05-29|         0.0|   Lovely to Look At|\n",
      "|43395|   0.0|     4.758|  1950-11-10|         0.0| Two Weeks with Love|\n",
      "|43455|   0.0|     4.669|  1948-08-23|         0.0| The Loves of Carmen|\n",
      "|43483|   0.0|     3.161|  1946-12-25|         0.0|Love Laughs at An...|\n",
      "|43547|   0.0|     7.635|  2009-01-30|         0.0|Between Love & Go...|\n",
      "|43556|   0.0|     2.418|  2006-10-31|         0.0|Joe Satriani - Li...|\n",
      "|43561|   0.0|     8.475|  2004-12-17|         0.0|   Christmas in Love|\n",
      "|43609|   0.0|     5.684|  2010-04-07|         0.0|    My Own Love Song|\n",
      "|43652|   0.0|     3.097|  2009-11-19|         0.0| Beloved Berlin Wall|\n",
      "|43739|   0.0|     4.514|  1939-04-07|         0.0|         Love Affair|\n",
      "|43742| 6.0E7|     3.723|  1994-10-21|         0.0|         Love Affair|\n",
      "|43764|   0.0|      0.73|  2006-01-01|         0.0|The Fish Fall in ...|\n",
      "|43787|   0.0|     5.769|  1942-11-19|         0.0|You Were Never Lo...|\n",
      "+-----+------+----------+------------+------------+--------------------+\n",
      "only showing top 20 rows\n",
      "\n"
     ]
    }
   ],
   "source": [
    "# It can also be the following:\n",
    "df.filter(df['title'].contains('ove')).show()"
   ]
  },
  {
   "cell_type": "code",
   "execution_count": 38,
   "id": "a1eccd67-3a1a-4ee5-a84a-ea9a296051f6",
   "metadata": {},
   "outputs": [
    {
     "name": "stdout",
     "output_type": "stream",
     "text": [
      "root\n",
      " |-- release_date: date (nullable = true)\n",
      " |-- revenue: float (nullable = true)\n",
      "\n"
     ]
    }
   ],
   "source": [
    "# You can also select columns by Regex\n",
    "# select columns starting with re\n",
    "df.select(df.colRegex(\"`re\\w*`\")).printSchema()"
   ]
  },
  {
   "cell_type": "code",
   "execution_count": 39,
   "id": "a8cf3416-df9b-48f9-933b-f9f5b2468ee0",
   "metadata": {},
   "outputs": [
    {
     "name": "stdout",
     "output_type": "stream",
     "text": [
      "root\n",
      " |-- release_date: date (nullable = true)\n",
      " |-- revenue: float (nullable = true)\n",
      " |-- title: string (nullable = true)\n",
      "\n"
     ]
    }
   ],
   "source": [
    "# Select columns ending with 'e'\n",
    "df.select(df.colRegex(\"`\\w*e`\")).printSchema()"
   ]
  },
  {
   "cell_type": "markdown",
   "id": "6c6e15b0-b2ae-4411-aab3-9d3b7642b68f",
   "metadata": {},
   "source": [
    "## Creating New Columns"
   ]
  },
  {
   "cell_type": "code",
   "execution_count": 40,
   "id": "277e45bf-b7c7-468a-a5ab-895d53b016e8",
   "metadata": {},
   "outputs": [
    {
     "data": {
      "text/plain": [
       "5.295444259579189"
      ]
     },
     "execution_count": 40,
     "metadata": {},
     "output_type": "execute_result"
    }
   ],
   "source": [
    "# Create the mean population\n",
    "mean_pop = df.agg({'popularity':'mean'}).collect()[0]['avg(popularity)']\n",
    "mean_pop"
   ]
  },
  {
   "cell_type": "code",
   "execution_count": 41,
   "id": "5215635a-b694-4baa-9944-24a3a29e00cd",
   "metadata": {},
   "outputs": [
    {
     "name": "stdout",
     "output_type": "stream",
     "text": [
      "root\n",
      " |-- id: integer (nullable = true)\n",
      " |-- budget: float (nullable = true)\n",
      " |-- popularity: float (nullable = true)\n",
      " |-- release_date: date (nullable = true)\n",
      " |-- revenue: float (nullable = true)\n",
      " |-- title: string (nullable = true)\n",
      " |-- mean_popularity: double (nullable = false)\n",
      "\n"
     ]
    }
   ],
   "source": [
    "# Add this value to all rows of the data frame\n",
    "df = df.withColumn('mean_popularity', lit(mean_pop))\n",
    "df.printSchema()"
   ]
  },
  {
   "cell_type": "code",
   "execution_count": 42,
   "id": "799679f6-b09a-4431-9313-dee442daecf5",
   "metadata": {},
   "outputs": [
    {
     "name": "stdout",
     "output_type": "stream",
     "text": [
      "root\n",
      " |-- id: integer (nullable = true)\n",
      " |-- budget: float (nullable = true)\n",
      " |-- popularity: float (nullable = true)\n",
      " |-- release_date: date (nullable = true)\n",
      " |-- revenue: float (nullable = true)\n",
      " |-- title: string (nullable = true)\n",
      " |-- mean_popularity: double (nullable = false)\n",
      " |-- variance: double (nullable = true)\n",
      "\n"
     ]
    }
   ],
   "source": [
    "# Intermediate calculation\n",
    "df = df.withColumn('variance', pow(df['popularity']-df['mean_popularity'],2))\n",
    "df.printSchema()"
   ]
  },
  {
   "cell_type": "code",
   "execution_count": 43,
   "id": "2258603c-a7d3-4f54-8377-fae1821e0c95",
   "metadata": {},
   "outputs": [
    {
     "data": {
      "text/plain": [
       "37.858688057662825"
      ]
     },
     "execution_count": 43,
     "metadata": {},
     "output_type": "execute_result"
    }
   ],
   "source": [
    "# Add up all of the variances\n",
    "variance_sum = df.agg({'variance':'sum'}).collect()[0]['sum(variance)']\n",
    "count_obs = df.count()\n",
    "variance_population = variance_sum/(count_obs-1)\n",
    "variance_population"
   ]
  },
  {
   "cell_type": "code",
   "execution_count": 44,
   "id": "134cb314-21a0-4a22-bfaf-667c77249c2c",
   "metadata": {},
   "outputs": [],
   "source": [
    "# Define a python function and return a tuple\n",
    "def new_cols(budget, popularity):\n",
    "    if budget < 10000000: budget_cat = \"Small\"\n",
    "    elif budget < 100000000: budget_cat = \"Medium\"\n",
    "    else: budget_cat = \"Big\"\n",
    "\n",
    "    if popularity < 3: ratings = \"Low\"\n",
    "    elif popularity < 5: ratings = \"Mid\"\n",
    "    else: ratings = \"High\"\n",
    "\n",
    "    return budget_cat, ratings\n",
    "\n"
   ]
  },
  {
   "cell_type": "code",
   "execution_count": 45,
   "id": "e8b53daf-46cf-4b81-85e5-ad9cf33e35ed",
   "metadata": {},
   "outputs": [
    {
     "name": "stdout",
     "output_type": "stream",
     "text": [
      "+-----+---------+----------+-------------+\n",
      "|   id|   budget|popularity|       newcat|\n",
      "+-----+---------+----------+-------------+\n",
      "|43000|      0.0|     2.503| {Small, Low}|\n",
      "|43001|      0.0|      5.51|{Small, High}|\n",
      "|43002|      0.0|      5.62|{Small, High}|\n",
      "|43003|      0.0|     7.159|{Small, High}|\n",
      "|43004| 500000.0|     3.988| {Small, Mid}|\n",
      "|43006|      0.0|     3.194| {Small, Mid}|\n",
      "|43007|      0.0|     2.689| {Small, Low}|\n",
      "|43008|      0.0|     6.537|{Small, High}|\n",
      "|43010|      0.0|     4.297| {Small, Mid}|\n",
      "|43011|      0.0|     4.417| {Small, Mid}|\n",
      "|43012|7000000.0|     4.722| {Small, Mid}|\n",
      "|43013|      0.0|     2.543| {Small, Low}|\n",
      "|43014|      0.0|     4.303| {Small, Mid}|\n",
      "|43015|      0.0|     3.493| {Small, Mid}|\n",
      "|43016|      0.0|     2.851| {Small, Low}|\n",
      "|43017|      0.0|     4.047| {Small, Mid}|\n",
      "|43018|      0.0|     2.661| {Small, Low}|\n",
      "|43019|      0.0|     3.225| {Small, Mid}|\n",
      "|43020|      0.0|      5.72|{Small, High}|\n",
      "|43021|      0.0|     3.292| {Small, Mid}|\n",
      "+-----+---------+----------+-------------+\n",
      "only showing top 20 rows\n",
      "\n"
     ]
    }
   ],
   "source": [
    "# Wrap the python function for use\n",
    "udfB = udf(new_cols, StructType([StructField(\"budget_cat\", StringType(), True), StructField(\"ratings\", StringType(), True)]))\n",
    "\n",
    "# Calculate using the custom function\n",
    "temp_df = (df.select('id', 'budget', 'popularity')\n",
    "             .withColumn('newcat', udfB('budget', 'popularity')))\n",
    "\n",
    "# Show results\n",
    "temp_df.show()"
   ]
  },
  {
   "cell_type": "code",
   "execution_count": 59,
   "id": "5c39c3cf-97ff-4a1f-95df-377cfb8981e1",
   "metadata": {},
   "outputs": [
    {
     "name": "stdout",
     "output_type": "stream",
     "text": [
      "+-----+---------+----------+----------+-------+\n",
      "|   id|   budget|popularity|budget_cat|ratings|\n",
      "+-----+---------+----------+----------+-------+\n",
      "|43000|      0.0|     2.503|     Small|    Low|\n",
      "|43001|      0.0|      5.51|     Small|   High|\n",
      "|43002|      0.0|      5.62|     Small|   High|\n",
      "|43003|      0.0|     7.159|     Small|   High|\n",
      "|43004| 500000.0|     3.988|     Small|    Mid|\n",
      "|43006|      0.0|     3.194|     Small|    Mid|\n",
      "|43007|      0.0|     2.689|     Small|    Low|\n",
      "|43008|      0.0|     6.537|     Small|   High|\n",
      "|43010|      0.0|     4.297|     Small|    Mid|\n",
      "|43011|      0.0|     4.417|     Small|    Mid|\n",
      "|43012|7000000.0|     4.722|     Small|    Mid|\n",
      "|43013|      0.0|     2.543|     Small|    Low|\n",
      "|43014|      0.0|     4.303|     Small|    Mid|\n",
      "|43015|      0.0|     3.493|     Small|    Mid|\n",
      "|43016|      0.0|     2.851|     Small|    Low|\n",
      "|43017|      0.0|     4.047|     Small|    Mid|\n",
      "|43018|      0.0|     2.661|     Small|    Low|\n",
      "|43019|      0.0|     3.225|     Small|    Mid|\n",
      "|43020|      0.0|      5.72|     Small|   High|\n",
      "|43021|      0.0|     3.292|     Small|    Mid|\n",
      "+-----+---------+----------+----------+-------+\n",
      "only showing top 20 rows\n",
      "\n"
     ]
    }
   ],
   "source": [
    "# Unbundle the struct column using getItem\n",
    "(temp_df.select('id', 'budget', 'popularity', 'newcat')\n",
    "        .withColumn('budget_cat', temp_df['newcat'].getItem('budget_cat'))\n",
    "        .withColumn('ratings', temp_df['newcat'].getItem('ratings'))\n",
    "        .drop('newcat')).show()"
   ]
  },
  {
   "cell_type": "code",
   "execution_count": 63,
   "id": "dc8af51b-6a06-4562-a5df-fcb36613027a",
   "metadata": {},
   "outputs": [
    {
     "name": "stdout",
     "output_type": "stream",
     "text": [
      "+-----+---------+----------+----------+-------+\n",
      "|   id|   budget|popularity|budget_cat|ratings|\n",
      "+-----+---------+----------+----------+-------+\n",
      "|43000|      0.0|     2.503|     Small|    Low|\n",
      "|43001|      0.0|      5.51|     Small|   High|\n",
      "|43002|      0.0|      5.62|     Small|   High|\n",
      "|43003|      0.0|     7.159|     Small|   High|\n",
      "|43004| 500000.0|     3.988|     Small|    Mid|\n",
      "|43006|      0.0|     3.194|     Small|    Mid|\n",
      "|43007|      0.0|     2.689|     Small|    Low|\n",
      "|43008|      0.0|     6.537|     Small|   High|\n",
      "|43010|      0.0|     4.297|     Small|    Mid|\n",
      "|43011|      0.0|     4.417|     Small|    Mid|\n",
      "|43012|7000000.0|     4.722|     Small|    Mid|\n",
      "|43013|      0.0|     2.543|     Small|    Low|\n",
      "|43014|      0.0|     4.303|     Small|    Mid|\n",
      "|43015|      0.0|     3.493|     Small|    Mid|\n",
      "|43016|      0.0|     2.851|     Small|    Low|\n",
      "|43017|      0.0|     4.047|     Small|    Mid|\n",
      "|43018|      0.0|     2.661|     Small|    Low|\n",
      "|43019|      0.0|     3.225|     Small|    Mid|\n",
      "|43020|      0.0|      5.72|     Small|   High|\n",
      "|43021|      0.0|     3.292|     Small|    Mid|\n",
      "+-----+---------+----------+----------+-------+\n",
      "only showing top 20 rows\n",
      "\n"
     ]
    }
   ],
   "source": [
    "# Unbundle the columns with when\n",
    "df_with_newcols = (df.select('id','budget','popularity')\n",
    "                     .withColumn('budget_cat', when(df['budget']<10000000, 'Small').\n",
    "                                               when(df['budget']<100000000, 'Medium').\n",
    "                                               otherwise('Big'))\n",
    "                     .withColumn('ratings', when(df['popularity']<3, 'Low').\n",
    "                                            when(df['popularity']<5, 'Mid').\n",
    "                                            otherwise('High')))\n",
    "\n",
    "df_with_newcols.show()"
   ]
  },
  {
   "cell_type": "markdown",
   "id": "bab8f8a9-15bc-4b12-8eea-d51091cfac2d",
   "metadata": {},
   "source": [
    "## Deleting and Renaming Columns"
   ]
  },
  {
   "cell_type": "code",
   "execution_count": 65,
   "id": "349b356c-8044-4f76-a9a8-cdbdc4401760",
   "metadata": {},
   "outputs": [
    {
     "name": "stdout",
     "output_type": "stream",
     "text": [
      "+-----+---------+----------+-------+\n",
      "|   id|   budget|popularity|ratings|\n",
      "+-----+---------+----------+-------+\n",
      "|43000|      0.0|     2.503|    Low|\n",
      "|43001|      0.0|      5.51|   High|\n",
      "|43002|      0.0|      5.62|   High|\n",
      "|43003|      0.0|     7.159|   High|\n",
      "|43004| 500000.0|     3.988|    Mid|\n",
      "|43006|      0.0|     3.194|    Mid|\n",
      "|43007|      0.0|     2.689|    Low|\n",
      "|43008|      0.0|     6.537|   High|\n",
      "|43010|      0.0|     4.297|    Mid|\n",
      "|43011|      0.0|     4.417|    Mid|\n",
      "|43012|7000000.0|     4.722|    Mid|\n",
      "|43013|      0.0|     2.543|    Low|\n",
      "|43014|      0.0|     4.303|    Mid|\n",
      "|43015|      0.0|     3.493|    Mid|\n",
      "|43016|      0.0|     2.851|    Low|\n",
      "|43017|      0.0|     4.047|    Mid|\n",
      "|43018|      0.0|     2.661|    Low|\n",
      "|43019|      0.0|     3.225|    Mid|\n",
      "|43020|      0.0|      5.72|   High|\n",
      "|43021|      0.0|     3.292|    Mid|\n",
      "+-----+---------+----------+-------+\n",
      "only showing top 20 rows\n",
      "\n"
     ]
    }
   ],
   "source": [
    "# Deleting Columns\n",
    "columns_to_drop = ['budget_cat']\n",
    "df_with_newcols = df_with_newcols.drop(*columns_to_drop)\n",
    "df_with_newcols.show()"
   ]
  },
  {
   "cell_type": "code",
   "execution_count": 67,
   "id": "eb2d8704-e84c-47ac-9165-0b37da6d0692",
   "metadata": {},
   "outputs": [
    {
     "name": "stdout",
     "output_type": "stream",
     "text": [
      "+-------+---------+----------+------------+\n",
      "|film_id|   budget|popularity|film_ratings|\n",
      "+-------+---------+----------+------------+\n",
      "|  43000|      0.0|     2.503|         Low|\n",
      "|  43001|      0.0|      5.51|        High|\n",
      "|  43002|      0.0|      5.62|        High|\n",
      "|  43003|      0.0|     7.159|        High|\n",
      "|  43004| 500000.0|     3.988|         Mid|\n",
      "|  43006|      0.0|     3.194|         Mid|\n",
      "|  43007|      0.0|     2.689|         Low|\n",
      "|  43008|      0.0|     6.537|        High|\n",
      "|  43010|      0.0|     4.297|         Mid|\n",
      "|  43011|      0.0|     4.417|         Mid|\n",
      "|  43012|7000000.0|     4.722|         Mid|\n",
      "|  43013|      0.0|     2.543|         Low|\n",
      "|  43014|      0.0|     4.303|         Mid|\n",
      "|  43015|      0.0|     3.493|         Mid|\n",
      "|  43016|      0.0|     2.851|         Low|\n",
      "|  43017|      0.0|     4.047|         Mid|\n",
      "|  43018|      0.0|     2.661|         Low|\n",
      "|  43019|      0.0|     3.225|         Mid|\n",
      "|  43020|      0.0|      5.72|        High|\n",
      "|  43021|      0.0|     3.292|         Mid|\n",
      "+-------+---------+----------+------------+\n",
      "only showing top 20 rows\n",
      "\n"
     ]
    }
   ],
   "source": [
    "# Renaming Columns with withColumnRenamed\n",
    "(df_with_newcols.withColumnRenamed('id', 'film_id')\n",
    "                .withColumnRenamed('ratings', 'film_ratings')).show()"
   ]
  },
  {
   "cell_type": "code",
   "execution_count": 69,
   "id": "9dd67d81-ff9d-43df-a04d-6676dbc98f22",
   "metadata": {},
   "outputs": [
    {
     "name": "stdout",
     "output_type": "stream",
     "text": [
      "+-----------+---------------+\n",
      "|film_budget|film_popularity|\n",
      "+-----------+---------------+\n",
      "|        0.0|          2.503|\n",
      "|        0.0|           5.51|\n",
      "|        0.0|           5.62|\n",
      "|        0.0|          7.159|\n",
      "|   500000.0|          3.988|\n",
      "|        0.0|          3.194|\n",
      "|        0.0|          2.689|\n",
      "|        0.0|          6.537|\n",
      "|        0.0|          4.297|\n",
      "|        0.0|          4.417|\n",
      "|  7000000.0|          4.722|\n",
      "|        0.0|          2.543|\n",
      "|        0.0|          4.303|\n",
      "|        0.0|          3.493|\n",
      "|        0.0|          2.851|\n",
      "|        0.0|          4.047|\n",
      "|        0.0|          2.661|\n",
      "|        0.0|          3.225|\n",
      "|        0.0|           5.72|\n",
      "|        0.0|          3.292|\n",
      "+-----------+---------------+\n",
      "only showing top 20 rows\n",
      "\n"
     ]
    }
   ],
   "source": [
    "# Renaming columns with alias\n",
    "new_names = [('budget', 'film_budget'), ('popularity', 'film_popularity')]\n",
    "\n",
    "(df_with_newcols.select(list(map(lambda old,new:col(old).alias(new), *zip(*new_names))))).show()"
   ]
  },
  {
   "cell_type": "markdown",
   "id": "c79c5613-6566-4070-883e-0a0ec43c582d",
   "metadata": {},
   "source": [
    "## Excercise 2.1"
   ]
  },
  {
   "cell_type": "code",
   "execution_count": null,
   "id": "7b97f785-3d33-4b96-b103-4d1e3ddd5791",
   "metadata": {},
   "outputs": [],
   "source": []
  }
 ],
 "metadata": {
  "kernelspec": {
   "display_name": "Python 3 (ipykernel)",
   "language": "python",
   "name": "python3"
  },
  "language_info": {
   "codemirror_mode": {
    "name": "ipython",
    "version": 3
   },
   "file_extension": ".py",
   "mimetype": "text/x-python",
   "name": "python",
   "nbconvert_exporter": "python",
   "pygments_lexer": "ipython3",
   "version": "3.11.6"
  }
 },
 "nbformat": 4,
 "nbformat_minor": 5
}

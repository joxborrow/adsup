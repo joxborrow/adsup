{
 "cells": [
  {
   "cell_type": "markdown",
   "id": "1eae7274-80e4-4790-8fcb-808c180f00db",
   "metadata": {},
   "source": [
    "# Chapter 2"
   ]
  },
  {
   "cell_type": "markdown",
   "id": "b29f3df7-fc69-4971-a4ef-83186e466989",
   "metadata": {},
   "source": [
    "## Connect and Read in Data"
   ]
  },
  {
   "cell_type": "code",
   "execution_count": null,
   "id": "87de69df-698c-4a82-b7ed-95deb082677c",
   "metadata": {},
   "outputs": [],
   "source": [
    "# Connect to Spark\n",
    "from pyspark.sql import SparkSession\n",
    "spark=SparkSession.builder.appName(\"Data_Wrangling\").getOrCreate()"
   ]
  },
  {
   "cell_type": "code",
   "execution_count": 17,
   "id": "3b044529-30a5-4027-a488-b502b4c70ebb",
   "metadata": {},
   "outputs": [],
   "source": [
    "# Set parameters\n",
    "file_location = \"Ch02/Chapter2_Data/movie_data_part1.csv\"\n",
    "file_type = \"csv\"\n",
    "infer_schema = \"False\"\n",
    "first_row_is_header = \"True\"\n",
    "delimiter = \"|\""
   ]
  },
  {
   "cell_type": "code",
   "execution_count": 18,
   "id": "6733eeba-9f0f-485c-9eab-a62d47c44215",
   "metadata": {},
   "outputs": [],
   "source": [
    "# Read in dataframe\n",
    "df_raw = (spark.read.format(file_type)\n",
    "                    .option(\"inferSchema\", infer_schema)\n",
    "                    .option(\"header\", first_row_is_header)\n",
    "                    .option(\"sep\", delimiter)\n",
    "                    .load(file_location))"
   ]
  },
  {
   "cell_type": "markdown",
   "id": "cdeb8edd-c133-4d1d-ae39-58b536b75938",
   "metadata": {},
   "source": [
    "## Exploratory Analysis"
   ]
  },
  {
   "cell_type": "code",
   "execution_count": 19,
   "id": "fac1052d-178e-4c26-a6b7-d80e0e28d7bb",
   "metadata": {},
   "outputs": [
    {
     "name": "stdout",
     "output_type": "stream",
     "text": [
      "root\n",
      " |-- belongs_to_collection: string (nullable = true)\n",
      " |-- budget: string (nullable = true)\n",
      " |-- id: string (nullable = true)\n",
      " |-- original_language: string (nullable = true)\n",
      " |-- original_title: string (nullable = true)\n",
      " |-- overview: string (nullable = true)\n",
      " |-- popularity: string (nullable = true)\n",
      " |-- production_companies: string (nullable = true)\n",
      " |-- production_countries: string (nullable = true)\n",
      " |-- release_date: string (nullable = true)\n",
      " |-- revenue: string (nullable = true)\n",
      " |-- runtime: string (nullable = true)\n",
      " |-- status: string (nullable = true)\n",
      " |-- tagline: string (nullable = true)\n",
      " |-- title: string (nullable = true)\n",
      " |-- vote_average: string (nullable = true)\n",
      "\n"
     ]
    }
   ],
   "source": [
    "df_raw.printSchema()"
   ]
  },
  {
   "cell_type": "code",
   "execution_count": 20,
   "id": "9dca0a18-5b38-4f2a-94f8-09e613e803c9",
   "metadata": {},
   "outputs": [
    {
     "data": {
      "text/plain": [
       "[('belongs_to_collection', 'string'),\n",
       " ('budget', 'string'),\n",
       " ('id', 'string'),\n",
       " ('original_language', 'string'),\n",
       " ('original_title', 'string'),\n",
       " ('overview', 'string'),\n",
       " ('popularity', 'string'),\n",
       " ('production_companies', 'string'),\n",
       " ('production_countries', 'string'),\n",
       " ('release_date', 'string'),\n",
       " ('revenue', 'string'),\n",
       " ('runtime', 'string'),\n",
       " ('status', 'string'),\n",
       " ('tagline', 'string'),\n",
       " ('title', 'string'),\n",
       " ('vote_average', 'string')]"
      ]
     },
     "execution_count": 20,
     "metadata": {},
     "output_type": "execute_result"
    }
   ],
   "source": [
    "df_raw.dtypes"
   ]
  },
  {
   "cell_type": "code",
   "execution_count": 21,
   "id": "65512587-3f58-4e5f-9b1c-e1f497ceae57",
   "metadata": {},
   "outputs": [
    {
     "data": {
      "text/plain": [
       "43998"
      ]
     },
     "execution_count": 21,
     "metadata": {},
     "output_type": "execute_result"
    }
   ],
   "source": [
    "df_raw.count()"
   ]
  },
  {
   "cell_type": "code",
   "execution_count": 23,
   "id": "b05f752c-3b1e-418b-ad7c-e5be37776763",
   "metadata": {},
   "outputs": [
    {
     "name": "stdout",
     "output_type": "stream",
     "text": [
      "The total number of records is 43998!\n"
     ]
    }
   ],
   "source": [
    "print(f'The total number of records is {df_raw.count()}!')"
   ]
  },
  {
   "cell_type": "code",
   "execution_count": 24,
   "id": "8e78aca1-dbfc-4106-9cf9-cb373a78989e",
   "metadata": {},
   "outputs": [],
   "source": [
    "select_columns=['id','budget','popularity','release_date','revenue','title']"
   ]
  },
  {
   "cell_type": "code",
   "execution_count": 26,
   "id": "9c08cb0b-3a76-438a-a916-5c58052e7f15",
   "metadata": {},
   "outputs": [],
   "source": [
    "df = df_raw.select(*select_columns)"
   ]
  },
  {
   "cell_type": "code",
   "execution_count": 27,
   "id": "e7140dcd-3bf2-4ac7-b10c-6604e8621eb5",
   "metadata": {},
   "outputs": [
    {
     "name": "stdout",
     "output_type": "stream",
     "text": [
      "root\n",
      " |-- id: string (nullable = true)\n",
      " |-- budget: string (nullable = true)\n",
      " |-- popularity: string (nullable = true)\n",
      " |-- release_date: string (nullable = true)\n",
      " |-- revenue: string (nullable = true)\n",
      " |-- title: string (nullable = true)\n",
      "\n"
     ]
    }
   ],
   "source": [
    "df.printSchema()"
   ]
  },
  {
   "cell_type": "code",
   "execution_count": 28,
   "id": "6bc877cb-afd7-449d-ad92-4e0befa7ca65",
   "metadata": {},
   "outputs": [
    {
     "name": "stdout",
     "output_type": "stream",
     "text": [
      "+-----+-------+------------------+------------+-------+--------------------+\n",
      "|   id| budget|        popularity|release_date|revenue|               title|\n",
      "+-----+-------+------------------+------------+-------+--------------------+\n",
      "|43000|      0|             2.503|  1962-05-23|      0|The Elusive Corporal|\n",
      "|43001|      0|              5.51|  1962-11-12|      0|  Sundays and Cybele|\n",
      "|43002|      0|              5.62|  1962-05-24|      0|Lonely Are the Brave|\n",
      "|43003|      0|             7.159|  1975-03-12|      0|          F for Fake|\n",
      "|43004| 500000|             3.988|  1962-10-09|      0|Long Day's Journe...|\n",
      "|43006|      0|             3.194|  1962-03-09|      0|           My Geisha|\n",
      "|43007|      0|             2.689|  1962-10-31|      0|Period of Adjustment|\n",
      "|43008|      0|             6.537|  1959-03-13|      0|    The Hanging Tree|\n",
      "|43010|      0|             4.297|  1962-01-01|      0|Sherlock Holmes a...|\n",
      "|43011|      0|             4.417|  1962-01-01|      0|  Sodom and Gomorrah|\n",
      "|43012|7000000|4.7219999999999995|  1962-11-21|4000000|         Taras Bulba|\n",
      "|43013|      0|             2.543|  1962-04-17|      0|The Counterfeit T...|\n",
      "|43014|      0|             4.303|  1962-10-24|      0|     Tower of London|\n",
      "|43015|      0|             3.493|  1962-12-07|      0|Varan the Unbelie...|\n",
      "|43016|      0|             2.851|  1962-01-01|      0|Waltz of the Tore...|\n",
      "|43017|      0|             4.047|  1961-10-11|      0|         Back Street|\n",
      "|43018|      0|             2.661|  1961-06-02|      0|Gidget Goes Hawaiian|\n",
      "|43019|      0|             3.225|  2010-05-28|      0|Schuks Tshabalala...|\n",
      "|43020|      0|              5.72|  1961-06-15|      0|The Colossus of R...|\n",
      "|43021|      0|             3.292|  2008-08-22|      0|          Sex Galaxy|\n",
      "+-----+-------+------------------+------------+-------+--------------------+\n",
      "only showing top 20 rows\n",
      "\n"
     ]
    }
   ],
   "source": [
    "df.show()"
   ]
  },
  {
   "cell_type": "markdown",
   "id": "81572fab-dfea-49ea-a209-0d6a4872b2fa",
   "metadata": {},
   "source": [
    "## Missing Values"
   ]
  },
  {
   "cell_type": "code",
   "execution_count": 29,
   "id": "d71d4881-0ab4-4f5c-8a0b-a64d97e77b7a",
   "metadata": {},
   "outputs": [],
   "source": [
    "# Import sql functions\n",
    "from pyspark.sql.functions import *"
   ]
  },
  {
   "cell_type": "code",
   "execution_count": 31,
   "id": "cd721fb9-1939-42a7-8380-6c237cbe021d",
   "metadata": {},
   "outputs": [
    {
     "data": {
      "text/plain": [
       "215"
      ]
     },
     "execution_count": 31,
     "metadata": {},
     "output_type": "execute_result"
    }
   ],
   "source": [
    "# Calculate the missing values in one column\n",
    "df.filter((df['popularity']==\"\")|df['popularity'].isNull()|isnan(df['popularity'])).count()"
   ]
  },
  {
   "cell_type": "code",
   "execution_count": 33,
   "id": "6d672b44-96f4-4ef7-bbe7-825bbea6d854",
   "metadata": {},
   "outputs": [
    {
     "name": "stdout",
     "output_type": "stream",
     "text": [
      "+---+------+----------+------------+-------+-----+\n",
      "| id|budget|popularity|release_date|revenue|title|\n",
      "+---+------+----------+------------+-------+-----+\n",
      "|125|   125|       215|         221|    215|  304|\n",
      "+---+------+----------+------------+-------+-----+\n",
      "\n"
     ]
    }
   ],
   "source": [
    "# Calculate the missing values in all columns\n",
    "df.select([count(when((col(c)=='')|col(c).isNull()|isnan(c), c)).alias(c) for c in df.columns]).show()"
   ]
  },
  {
   "cell_type": "code",
   "execution_count": 35,
   "id": "37363158-d2c5-46a6-a85b-7fd2fcfa92d3",
   "metadata": {},
   "outputs": [
    {
     "name": "stdout",
     "output_type": "stream",
     "text": [
      "+--------------------+-----+\n",
      "|               title|count|\n",
      "+--------------------+-----+\n",
      "|   The Corn Is Green|    1|\n",
      "|Meet The Browns -...|    1|\n",
      "|Morenita, El Esca...|    1|\n",
      "| Father Takes a Wife|    1|\n",
      "|The Werewolf of W...|    1|\n",
      "|My Wife Is a Gang...|    1|\n",
      "|Depeche Mode: Tou...|    1|\n",
      "|  A Woman Is a Woman|    1|\n",
      "|History Is Made a...|    1|\n",
      "|      Colombian Love|    1|\n",
      "|        Ace Attorney|    1|\n",
      "|     Not Like Others|    1|\n",
      "|40 Guns to Apache...|    1|\n",
      "|          Middle Men|    1|\n",
      "|         It's a Gift|    1|\n",
      "|    La Vie de Bohème|    1|\n",
      "|Rasputin: The Mad...|    1|\n",
      "|The Ballad of Jac...|    1|\n",
      "|         How to Deal|    1|\n",
      "|             Freaked|    1|\n",
      "+--------------------+-----+\n",
      "only showing top 20 rows\n",
      "\n"
     ]
    }
   ],
   "source": [
    "# One way frequencies\n",
    "df.groupBy(df['title']).count().show()"
   ]
  },
  {
   "cell_type": "code",
   "execution_count": 36,
   "id": "eed9492b-1648-46f1-9943-d18cf5efbe8a",
   "metadata": {},
   "outputs": [
    {
     "name": "stdout",
     "output_type": "stream",
     "text": [
      "+--------------------+-----+\n",
      "|title               |count|\n",
      "+--------------------+-----+\n",
      "|NULL                |304  |\n",
      "|Les Misérables      |8    |\n",
      "|The Three Musketeers|8    |\n",
      "|Cinderella          |8    |\n",
      "|A Christmas Carol   |7    |\n",
      "|Hamlet              |7    |\n",
      "|The Island          |7    |\n",
      "|Dracula             |7    |\n",
      "|Frankenstein        |7    |\n",
      "|Framed              |6    |\n",
      "+--------------------+-----+\n",
      "only showing top 10 rows\n",
      "\n"
     ]
    }
   ],
   "source": [
    "# One way freq and sort\n",
    "df.groupBy(df['title']).count().sort(desc(\"count\")).show(10, False)"
   ]
  },
  {
   "cell_type": "code",
   "execution_count": 39,
   "id": "e76656e7-d1d4-4e43-aafb-4a89ddbf352c",
   "metadata": {},
   "outputs": [],
   "source": [
    "# Sort and filter one way frequencies\n",
    "df_temp = df.filter((df['title']!='') & (df['title'].isNotNull()) & (~isnan(df['title'])))"
   ]
  },
  {
   "cell_type": "code",
   "execution_count": 42,
   "id": "edcebe0c-2d8a-44bf-8096-38661ac717b6",
   "metadata": {},
   "outputs": [
    {
     "name": "stdout",
     "output_type": "stream",
     "text": [
      "+--------------------+-----+\n",
      "|title               |count|\n",
      "+--------------------+-----+\n",
      "|Les Misérables      |8    |\n",
      "|The Three Musketeers|8    |\n",
      "|Cinderella          |8    |\n",
      "|A Christmas Carol   |7    |\n",
      "|Frankenstein        |7    |\n",
      "|Hamlet              |7    |\n",
      "|The Island          |7    |\n",
      "|Dracula             |7    |\n",
      "|First Love          |6    |\n",
      "|Beauty and the Beast|6    |\n",
      "+--------------------+-----+\n",
      "only showing top 10 rows\n",
      "\n"
     ]
    }
   ],
   "source": [
    "# Find titles that are repeated more than 4 times\n",
    "(df_temp.groupBy(df_temp['title'])\n",
    "        .count()\n",
    "        .filter(\"`count`>4\")\n",
    "        .sort(col(\"count\").desc())\n",
    "        .show(10,False))"
   ]
  },
  {
   "cell_type": "markdown",
   "id": "86f393e9-6ebb-496a-bc29-e5925624543d",
   "metadata": {},
   "source": [
    "## Casting Variables"
   ]
  },
  {
   "cell_type": "code",
   "execution_count": 44,
   "id": "d5a25cfc-f4b1-4ac3-968b-413c55e6ab26",
   "metadata": {},
   "outputs": [
    {
     "data": {
      "text/plain": [
       "[('id', 'string'),\n",
       " ('budget', 'string'),\n",
       " ('popularity', 'string'),\n",
       " ('release_date', 'string'),\n",
       " ('revenue', 'string'),\n",
       " ('title', 'string')]"
      ]
     },
     "execution_count": 44,
     "metadata": {},
     "output_type": "execute_result"
    }
   ],
   "source": [
    "# Show types\n",
    "df.dtypes"
   ]
  },
  {
   "cell_type": "code",
   "execution_count": 46,
   "id": "f9b0fc65-9252-4c4a-baad-ecc1a18d5f10",
   "metadata": {},
   "outputs": [],
   "source": [
    "# Fix the budget variable\n",
    "df = df.withColumn('budget', df['budget'].cast(\"float\"))"
   ]
  },
  {
   "cell_type": "code",
   "execution_count": 47,
   "id": "3739dfd3-87ce-4ee3-b030-82b84063d1ea",
   "metadata": {},
   "outputs": [
    {
     "data": {
      "text/plain": [
       "[('id', 'string'),\n",
       " ('budget', 'float'),\n",
       " ('popularity', 'string'),\n",
       " ('release_date', 'string'),\n",
       " ('revenue', 'string'),\n",
       " ('title', 'string')]"
      ]
     },
     "execution_count": 47,
     "metadata": {},
     "output_type": "execute_result"
    }
   ],
   "source": [
    "df.dtypes"
   ]
  },
  {
   "cell_type": "code",
   "execution_count": 50,
   "id": "1d096518-1130-4ff3-9b01-12cd2c27b052",
   "metadata": {},
   "outputs": [
    {
     "name": "stdout",
     "output_type": "stream",
     "text": [
      "+-----+--------+----------+------------+-------+--------------------+\n",
      "|   id|  budget|popularity|release_date|revenue|               title|\n",
      "+-----+--------+----------+------------+-------+--------------------+\n",
      "|43000|     0.0|     2.503|  1962-05-23|      0|The Elusive Corporal|\n",
      "|43001|     0.0|      5.51|  1962-11-12|      0|  Sundays and Cybele|\n",
      "|43002|     0.0|      5.62|  1962-05-24|      0|Lonely Are the Brave|\n",
      "|43003|     0.0|     7.159|  1975-03-12|      0|          F for Fake|\n",
      "|43004|500000.0|     3.988|  1962-10-09|      0|Long Day's Journe...|\n",
      "|43006|     0.0|     3.194|  1962-03-09|      0|           My Geisha|\n",
      "|43007|     0.0|     2.689|  1962-10-31|      0|Period of Adjustment|\n",
      "|43008|     0.0|     6.537|  1959-03-13|      0|    The Hanging Tree|\n",
      "|43010|     0.0|     4.297|  1962-01-01|      0|Sherlock Holmes a...|\n",
      "|43011|     0.0|     4.417|  1962-01-01|      0|  Sodom and Gomorrah|\n",
      "+-----+--------+----------+------------+-------+--------------------+\n",
      "only showing top 10 rows\n",
      "\n"
     ]
    }
   ],
   "source": [
    "df.show(10)"
   ]
  },
  {
   "cell_type": "code",
   "execution_count": 52,
   "id": "db48410e-b01a-43f1-88c6-9346903ad7e6",
   "metadata": {},
   "outputs": [
    {
     "data": {
      "text/plain": [
       "[('id', 'int'),\n",
       " ('budget', 'float'),\n",
       " ('popularity', 'float'),\n",
       " ('release_date', 'date'),\n",
       " ('revenue', 'float'),\n",
       " ('title', 'string')]"
      ]
     },
     "execution_count": 52,
     "metadata": {},
     "output_type": "execute_result"
    }
   ],
   "source": [
    "# Looping over columns\n",
    "from pyspark.sql.types import *\n",
    "int_vars = ['id']\n",
    "float_vars = ['budget', 'popularity', 'revenue']\n",
    "date_vars = ['release_date']\n",
    "\n",
    "for column in float_vars:\n",
    "    df=df.withColumn(column, df[column].cast(FloatType()))\n",
    "\n",
    "for column in int_vars:\n",
    "    df=df.withColumn(column, df[column].cast(IntegerType()))\n",
    "\n",
    "for column in date_vars:\n",
    "    df=df.withColumn(column, df[column].cast(DateType()))\n",
    "\n",
    "df.dtypes"
   ]
  },
  {
   "cell_type": "code",
   "execution_count": 53,
   "id": "71d16730-b564-471c-9b64-14598caff1e7",
   "metadata": {},
   "outputs": [
    {
     "name": "stdout",
     "output_type": "stream",
     "text": [
      "+-----+--------+----------+------------+-------+---------------------------------------+\n",
      "|id   |budget  |popularity|release_date|revenue|title                                  |\n",
      "+-----+--------+----------+------------+-------+---------------------------------------+\n",
      "|43000|0.0     |2.503     |1962-05-23  |0.0    |The Elusive Corporal                   |\n",
      "|43001|0.0     |5.51      |1962-11-12  |0.0    |Sundays and Cybele                     |\n",
      "|43002|0.0     |5.62      |1962-05-24  |0.0    |Lonely Are the Brave                   |\n",
      "|43003|0.0     |7.159     |1975-03-12  |0.0    |F for Fake                             |\n",
      "|43004|500000.0|3.988     |1962-10-09  |0.0    |Long Day's Journey Into Night          |\n",
      "|43006|0.0     |3.194     |1962-03-09  |0.0    |My Geisha                              |\n",
      "|43007|0.0     |2.689     |1962-10-31  |0.0    |Period of Adjustment                   |\n",
      "|43008|0.0     |6.537     |1959-03-13  |0.0    |The Hanging Tree                       |\n",
      "|43010|0.0     |4.297     |1962-01-01  |0.0    |Sherlock Holmes and the Deadly Necklace|\n",
      "|43011|0.0     |4.417     |1962-01-01  |0.0    |Sodom and Gomorrah                     |\n",
      "+-----+--------+----------+------------+-------+---------------------------------------+\n",
      "only showing top 10 rows\n",
      "\n"
     ]
    }
   ],
   "source": [
    "df.show(10, False)"
   ]
  },
  {
   "cell_type": "markdown",
   "id": "3a68e702-972b-4dae-b60f-9eb5478f108b",
   "metadata": {},
   "source": [
    "## Descriptive Statistics"
   ]
  },
  {
   "cell_type": "code",
   "execution_count": null,
   "id": "f3cf1f72-6c0a-4b91-919f-ff6702315389",
   "metadata": {},
   "outputs": [],
   "source": []
  }
 ],
 "metadata": {
  "kernelspec": {
   "display_name": "Python 3 (ipykernel)",
   "language": "python",
   "name": "python3"
  },
  "language_info": {
   "codemirror_mode": {
    "name": "ipython",
    "version": 3
   },
   "file_extension": ".py",
   "mimetype": "text/x-python",
   "name": "python",
   "nbconvert_exporter": "python",
   "pygments_lexer": "ipython3",
   "version": "3.11.6"
  }
 },
 "nbformat": 4,
 "nbformat_minor": 5
}
